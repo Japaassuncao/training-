{
  "nbformat": 4,
  "nbformat_minor": 0,
  "metadata": {
    "colab": {
      "name": "LitrosdeTinta.ipynb",
      "provenance": [],
      "authorship_tag": "ABX9TyM1ZRepwfPa4wiPVyR+yHMQ",
      "include_colab_link": true
    },
    "kernelspec": {
      "name": "python3",
      "display_name": "Python 3"
    },
    "language_info": {
      "name": "python"
    }
  },
  "cells": [
    {
      "cell_type": "markdown",
      "metadata": {
        "id": "view-in-github",
        "colab_type": "text"
      },
      "source": [
        "<a href=\"https://colab.research.google.com/github/Japaassuncao/training-/blob/main/LitrosdeTinta.ipynb\" target=\"_parent\"><img src=\"https://colab.research.google.com/assets/colab-badge.svg\" alt=\"Open In Colab\"/></a>"
      ]
    },
    {
      "cell_type": "code",
      "metadata": {
        "colab": {
          "base_uri": "https://localhost:8080/"
        },
        "id": "HqqeswDbEIld",
        "outputId": "9bac205d-3e87-43be-90b9-45f5daa6b9e2"
      },
      "source": [
        "ar = int ( input ( \" digite quantos m2 serão pintados: \" ) )\n",
        "\n",
        "litros = ar // 6\n",
        "if ar % 6 > 0 :\n",
        "  litros = litros + 1\n",
        "  litros = litros+ ( litros //10 * 1)\n",
        "  print ( \" você utilizará \" , litros , \"litros\")\n",
        "latas = litros // 18\n",
        "if litros % 18 > 0 :\n",
        "  latas = latas +1\n",
        "  print ( \" serão utilizados \" , latas , \" latas \")\n",
        "  preco_latas = latas * 80\n",
        "  print ( \" o valor comprando apenas latas sera de R$ \" ,preco_latas, \"reais \")  \n",
        "galoes= litros // 4\n",
        "if litros % 4 > 0 :\n",
        "  galoes = galoes + 1\n",
        "  print ( \" será gasto \" ,galoes, \" galoes no valor de :\" )\n",
        "  val_galoes = galoes * 25\n",
        "  print ( \" r$ \" ,val_galoes, \" reais \" )\n",
        "  print (\" se misturar os dois pode ficar mais barato: \")\n",
        "  latas_int = litros // 18\n",
        "  val_latas = latas_int * 80\n",
        "  rest_litros = litros % 18\n",
        "  galoes = rest_litros / 4\n",
        "  val_galoes = galoes *25\n",
        "  somalg = val_latas + val_galoes\n",
        "  print( \" misturando fica :\" )\n",
        "  print(\"latas = \" ,val_latas, \"reais\")\n",
        "  print(\"galoes =: \" ,galoes, \" no valor de \" ,val_galoes, \" reais \")\n",
        "  print(\" no valor total de\" ,somalg, \"reais\")"
      ],
      "execution_count": 72,
      "outputs": [
        {
          "output_type": "stream",
          "name": "stdout",
          "text": [
            " digite quantos m2 serão pintados: 170\n",
            " você utilizará  31 litros\n",
            " serão utilizados  2  latas \n",
            " o valor comprando apenas latas sera de R$  160 reais \n",
            " será gasto  8  galoes no valor de :\n",
            " r$  200  reais \n",
            " se misturar os dois pode ficar mais barato: \n",
            " misturando fica :\n",
            "latas =  80 reais\n",
            "galoes =:  3.25  no valor de  81.25  reais \n",
            " no valor total de 161.25 reais\n"
          ]
        }
      ]
    },
    {
      "cell_type": "code",
      "metadata": {
        "id": "-kiBWo-reDMY"
      },
      "source": [
        ""
      ],
      "execution_count": null,
      "outputs": []
    },
    {
      "cell_type": "code",
      "metadata": {
        "id": "bB7nCFONmZ9Y"
      },
      "source": [
        ""
      ],
      "execution_count": null,
      "outputs": []
    }
  ]
}