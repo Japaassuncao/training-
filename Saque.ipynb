{
  "nbformat": 4,
  "nbformat_minor": 0,
  "metadata": {
    "colab": {
      "name": "Saque.ipynb",
      "provenance": [],
      "authorship_tag": "ABX9TyMVzhYV8u7NzXSCGlNPyEpu",
      "include_colab_link": true
    },
    "kernelspec": {
      "name": "python3",
      "display_name": "Python 3"
    },
    "language_info": {
      "name": "python"
    }
  },
  "cells": [
    {
      "cell_type": "markdown",
      "metadata": {
        "id": "view-in-github",
        "colab_type": "text"
      },
      "source": [
        "<a href=\"https://colab.research.google.com/github/Japaassuncao/training-/blob/main/Saque.ipynb\" target=\"_parent\"><img src=\"https://colab.research.google.com/assets/colab-badge.svg\" alt=\"Open In Colab\"/></a>"
      ]
    },
    {
      "cell_type": "code",
      "metadata": {
        "id": "Cmzf26jWLz7F",
        "colab": {
          "base_uri": "https://localhost:8080/"
        },
        "outputId": "255013a0-ccaf-4c1f-db75-efce226e554a"
      },
      "source": [
        "saque = int(input( \"digite o valor do saque\"))\n",
        "if 10 <= saque <= 600 :\n",
        "  notas_100 = saque // 100\n",
        "  saque = saque % 100\n",
        "\n",
        "  notas_50 = saque // 50\n",
        "  saque = saque % 50\n",
        "\n",
        "  notas_10 = saque // 10\n",
        "  saque = saque % 10\n",
        "\n",
        "  notas_5 = saque // 5\n",
        "  saque = saque % 5\n",
        "\n",
        "  notas_1 = saque // 1\n",
        "  if notas_100 > 0 :\n",
        "      print ( notas_100 , \"notas de 100 reais\")\n",
        "  if notas_50 > 0 :\n",
        "      print ( notas_50 , \" notas de 50 reais\")\n",
        "  if notas_10 > 0 :\n",
        "      print ( notas_10 , \" notas de 10 reais\")\n",
        "  if notas_5 > 0 :\n",
        "      print ( notas_5 , \" notas de 5 reais\")\n",
        "  if notas_1 > 0 : \n",
        "      print ( notas_1 , \" notas de 1 real\")\n",
        "else :\n",
        "   print (\" não é possível sacar este valor, digite um valor entre 10 e 600 reais\")"
      ],
      "execution_count": 16,
      "outputs": [
        {
          "output_type": "stream",
          "name": "stdout",
          "text": [
            "digite o valor do saque599\n",
            "5 notas de 100 reais\n",
            "1  notas de 50 reais\n",
            "4  notas de 10 reais\n",
            "1  notas de 5 reais\n",
            "4  notas de 1 real\n"
          ]
        }
      ]
    }
  ]
}